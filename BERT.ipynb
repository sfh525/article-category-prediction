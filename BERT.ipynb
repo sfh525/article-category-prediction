{
 "cells": [
  {
   "cell_type": "code",
   "execution_count": 260,
   "metadata": {},
   "outputs": [],
   "source": [
    "import pandas as pd\n",
    "import nltk\n",
    "import tensorflow as tf\n",
    "import numpy as np\n",
    "from nltk.corpus import stopwords\n",
    "from nltk.stem import WordNetLemmatizer\n",
    "lemmatizer = WordNetLemmatizer()\n",
    "import re\n",
    "import torch\n",
    "import torch.nn as nn\n",
    "from transformers import BertTokenizer, BertForSequenceClassification, Trainer, TrainingArguments, BertModel\n",
    "from sklearn.metrics import accuracy_score, precision_recall_fscore_support, classification_report, confusion_matrix, roc_auc_score, roc_curve, auc, f1_score\n",
    "import string\n",
    "import matplotlib.pyplot as plt\n",
    "import seaborn as sns"
   ]
  },
  {
   "cell_type": "code",
   "execution_count": 261,
   "metadata": {},
   "outputs": [
    {
     "name": "stdout",
     "output_type": "stream",
     "text": [
      "cuda\n"
     ]
    }
   ],
   "source": [
    "# torch gpu\n",
    "device = torch.device(\"cuda\" if torch.cuda.is_available() else \"cpu\")\n",
    "print(device)"
   ]
  },
  {
   "cell_type": "code",
   "execution_count": 262,
   "metadata": {},
   "outputs": [
    {
     "name": "stdout",
     "output_type": "stream",
     "text": [
      "Using GPU\n"
     ]
    }
   ],
   "source": [
    "# use gpu if available\n",
    "if tf.config.list_physical_devices('GPU'):\n",
    "    print(\"Using GPU\")\n",
    "else:\n",
    "    print(\"Using CPU\")\n",
    "    "
   ]
  },
  {
   "cell_type": "code",
   "execution_count": 263,
   "metadata": {},
   "outputs": [],
   "source": [
    "#Train\n",
    "jan2017 = pd.read_csv(\"/home/abhinawap/StudySes/OTI/ArticlesJan2017.csv\")\n",
    "feb2017 = pd.read_csv(\"/home/abhinawap/StudySes/OTI/ArticlesFeb2017.csv\")\n",
    "march2017 = pd.read_csv(\"/home/abhinawap/StudySes/OTI/ArticlesMarch2017.csv\")\n",
    "april2017 = pd.read_csv(\"/home/abhinawap/StudySes/OTI/ArticlesApril2017.csv\")\n",
    "may2017 = pd.read_csv(\"/home/abhinawap/StudySes/OTI/ArticlesMay2017.csv\")\n",
    "\n",
    "\n",
    "jan2018 = pd.read_csv(\"/home/abhinawap/StudySes/OTI/ArticlesJan2018.csv\")\n",
    "feb2018 = pd.read_csv(\"/home/abhinawap/StudySes/OTI/ArticlesFeb2018.csv\")\n",
    "march2018 = pd.read_csv(\"/home/abhinawap/StudySes/OTI/ArticlesMarch2018.csv\")\n",
    "\n",
    "\n",
    "\n",
    "#Test\n",
    "test_data = pd.read_csv(\"/home/abhinawap/StudySes/OTI/ArticlesApril2018.csv\")"
   ]
  },
  {
   "cell_type": "markdown",
   "metadata": {},
   "source": [
    "## **Preprocessing**"
   ]
  },
  {
   "cell_type": "code",
   "execution_count": 264,
   "metadata": {},
   "outputs": [],
   "source": [
    "train_data = pd.concat([jan2017, feb2017, march2017, april2017, may2017, jan2018, feb2018, march2018], ignore_index=True)"
   ]
  },
  {
   "cell_type": "code",
   "execution_count": 265,
   "metadata": {},
   "outputs": [
    {
     "data": {
      "text/html": [
       "<div>\n",
       "<style scoped>\n",
       "    .dataframe tbody tr th:only-of-type {\n",
       "        vertical-align: middle;\n",
       "    }\n",
       "\n",
       "    .dataframe tbody tr th {\n",
       "        vertical-align: top;\n",
       "    }\n",
       "\n",
       "    .dataframe thead th {\n",
       "        text-align: right;\n",
       "    }\n",
       "</style>\n",
       "<table border=\"1\" class=\"dataframe\">\n",
       "  <thead>\n",
       "    <tr style=\"text-align: right;\">\n",
       "      <th></th>\n",
       "      <th>articleID</th>\n",
       "      <th>abstract</th>\n",
       "      <th>byline</th>\n",
       "      <th>documentType</th>\n",
       "      <th>headline</th>\n",
       "      <th>keywords</th>\n",
       "      <th>multimedia</th>\n",
       "      <th>newDesk</th>\n",
       "      <th>printPage</th>\n",
       "      <th>pubDate</th>\n",
       "      <th>sectionName</th>\n",
       "      <th>snippet</th>\n",
       "      <th>source</th>\n",
       "      <th>typeOfMaterial</th>\n",
       "      <th>webURL</th>\n",
       "      <th>articleWordCount</th>\n",
       "    </tr>\n",
       "  </thead>\n",
       "  <tbody>\n",
       "    <tr>\n",
       "      <th>0</th>\n",
       "      <td>58691a5795d0e039260788b9</td>\n",
       "      <td>NaN</td>\n",
       "      <td>By JENNIFER STEINHAUER</td>\n",
       "      <td>article</td>\n",
       "      <td>G.O.P. Leadership Poised to Topple Obama’s Pi...</td>\n",
       "      <td>['United States Politics and Government', 'Law...</td>\n",
       "      <td>1</td>\n",
       "      <td>National</td>\n",
       "      <td>1</td>\n",
       "      <td>2017-01-01 15:03:38</td>\n",
       "      <td>Politics</td>\n",
       "      <td>The most powerful and ambitious Republican-led...</td>\n",
       "      <td>The New York Times</td>\n",
       "      <td>News</td>\n",
       "      <td>https://www.nytimes.com/2017/01/01/us/politics...</td>\n",
       "      <td>1324</td>\n",
       "    </tr>\n",
       "    <tr>\n",
       "      <th>1</th>\n",
       "      <td>586967bf95d0e03926078915</td>\n",
       "      <td>NaN</td>\n",
       "      <td>By MARK LANDLER</td>\n",
       "      <td>article</td>\n",
       "      <td>Fractured World Tested the Hope of a Young Pre...</td>\n",
       "      <td>['Obama, Barack', 'Afghanistan', 'United State...</td>\n",
       "      <td>1</td>\n",
       "      <td>Foreign</td>\n",
       "      <td>1</td>\n",
       "      <td>2017-01-01 20:34:00</td>\n",
       "      <td>Asia Pacific</td>\n",
       "      <td>A strategy that went from a “good war” to the ...</td>\n",
       "      <td>The New York Times</td>\n",
       "      <td>News</td>\n",
       "      <td>https://www.nytimes.com/2017/01/01/world/asia/...</td>\n",
       "      <td>2836</td>\n",
       "    </tr>\n",
       "    <tr>\n",
       "      <th>2</th>\n",
       "      <td>58698a1095d0e0392607894a</td>\n",
       "      <td>NaN</td>\n",
       "      <td>By CAITLIN LOVINGER</td>\n",
       "      <td>article</td>\n",
       "      <td>Little Troublemakers</td>\n",
       "      <td>['Crossword Puzzles', 'Boxing Day', 'Holidays ...</td>\n",
       "      <td>1</td>\n",
       "      <td>Games</td>\n",
       "      <td>0</td>\n",
       "      <td>2017-01-01 23:00:24</td>\n",
       "      <td>Unknown</td>\n",
       "      <td>Chuck Deodene puts us in a bubbly mood.</td>\n",
       "      <td>The New York Times</td>\n",
       "      <td>News</td>\n",
       "      <td>https://www.nytimes.com/2017/01/01/crosswords/...</td>\n",
       "      <td>445</td>\n",
       "    </tr>\n",
       "    <tr>\n",
       "      <th>3</th>\n",
       "      <td>5869911a95d0e0392607894e</td>\n",
       "      <td>NaN</td>\n",
       "      <td>By JOCHEN BITTNER</td>\n",
       "      <td>article</td>\n",
       "      <td>Angela Merkel, Russia’s Next Target</td>\n",
       "      <td>['Cyberwarfare and Defense', 'Presidential Ele...</td>\n",
       "      <td>1</td>\n",
       "      <td>OpEd</td>\n",
       "      <td>15</td>\n",
       "      <td>2017-01-01 23:30:27</td>\n",
       "      <td>Unknown</td>\n",
       "      <td>With a friend entering the White House, Vladim...</td>\n",
       "      <td>The New York Times</td>\n",
       "      <td>Op-Ed</td>\n",
       "      <td>https://www.nytimes.com/2017/01/01/opinion/ang...</td>\n",
       "      <td>864</td>\n",
       "    </tr>\n",
       "    <tr>\n",
       "      <th>4</th>\n",
       "      <td>5869a61795d0e03926078962</td>\n",
       "      <td>NaN</td>\n",
       "      <td>By JIAYIN SHEN</td>\n",
       "      <td>article</td>\n",
       "      <td>Boots for a Stranger on a Bus</td>\n",
       "      <td>['Shoes and Boots', 'Buses', 'New York City']</td>\n",
       "      <td>0</td>\n",
       "      <td>Metro</td>\n",
       "      <td>12</td>\n",
       "      <td>2017-01-02 01:00:02</td>\n",
       "      <td>Unknown</td>\n",
       "      <td>Witnessing an act of generosity on a rainy day.</td>\n",
       "      <td>The New York Times</td>\n",
       "      <td>Brief</td>\n",
       "      <td>https://www.nytimes.com/2017/01/01/nyregion/me...</td>\n",
       "      <td>309</td>\n",
       "    </tr>\n",
       "  </tbody>\n",
       "</table>\n",
       "</div>"
      ],
      "text/plain": [
       "                  articleID abstract                  byline documentType  \\\n",
       "0  58691a5795d0e039260788b9      NaN  By JENNIFER STEINHAUER      article   \n",
       "1  586967bf95d0e03926078915      NaN         By MARK LANDLER      article   \n",
       "2  58698a1095d0e0392607894a      NaN     By CAITLIN LOVINGER      article   \n",
       "3  5869911a95d0e0392607894e      NaN       By JOCHEN BITTNER      article   \n",
       "4  5869a61795d0e03926078962      NaN          By JIAYIN SHEN      article   \n",
       "\n",
       "                                            headline  \\\n",
       "0   G.O.P. Leadership Poised to Topple Obama’s Pi...   \n",
       "1  Fractured World Tested the Hope of a Young Pre...   \n",
       "2                               Little Troublemakers   \n",
       "3                Angela Merkel, Russia’s Next Target   \n",
       "4                      Boots for a Stranger on a Bus   \n",
       "\n",
       "                                            keywords  multimedia   newDesk  \\\n",
       "0  ['United States Politics and Government', 'Law...           1  National   \n",
       "1  ['Obama, Barack', 'Afghanistan', 'United State...           1   Foreign   \n",
       "2  ['Crossword Puzzles', 'Boxing Day', 'Holidays ...           1     Games   \n",
       "3  ['Cyberwarfare and Defense', 'Presidential Ele...           1      OpEd   \n",
       "4      ['Shoes and Boots', 'Buses', 'New York City']           0     Metro   \n",
       "\n",
       "   printPage              pubDate   sectionName  \\\n",
       "0          1  2017-01-01 15:03:38      Politics   \n",
       "1          1  2017-01-01 20:34:00  Asia Pacific   \n",
       "2          0  2017-01-01 23:00:24       Unknown   \n",
       "3         15  2017-01-01 23:30:27       Unknown   \n",
       "4         12  2017-01-02 01:00:02       Unknown   \n",
       "\n",
       "                                             snippet              source  \\\n",
       "0  The most powerful and ambitious Republican-led...  The New York Times   \n",
       "1  A strategy that went from a “good war” to the ...  The New York Times   \n",
       "2            Chuck Deodene puts us in a bubbly mood.  The New York Times   \n",
       "3  With a friend entering the White House, Vladim...  The New York Times   \n",
       "4    Witnessing an act of generosity on a rainy day.  The New York Times   \n",
       "\n",
       "  typeOfMaterial                                             webURL  \\\n",
       "0           News  https://www.nytimes.com/2017/01/01/us/politics...   \n",
       "1           News  https://www.nytimes.com/2017/01/01/world/asia/...   \n",
       "2           News  https://www.nytimes.com/2017/01/01/crosswords/...   \n",
       "3          Op-Ed  https://www.nytimes.com/2017/01/01/opinion/ang...   \n",
       "4          Brief  https://www.nytimes.com/2017/01/01/nyregion/me...   \n",
       "\n",
       "   articleWordCount  \n",
       "0              1324  \n",
       "1              2836  \n",
       "2               445  \n",
       "3               864  \n",
       "4               309  "
      ]
     },
     "execution_count": 265,
     "metadata": {},
     "output_type": "execute_result"
    }
   ],
   "source": [
    "train_data.head()"
   ]
  },
  {
   "cell_type": "code",
   "execution_count": 266,
   "metadata": {},
   "outputs": [
    {
     "data": {
      "text/plain": [
       "articleID              0\n",
       "abstract            7844\n",
       "byline                 0\n",
       "documentType           0\n",
       "headline               0\n",
       "keywords               0\n",
       "multimedia             0\n",
       "newDesk                0\n",
       "printPage              0\n",
       "pubDate                0\n",
       "sectionName            0\n",
       "snippet                0\n",
       "source                 0\n",
       "typeOfMaterial         0\n",
       "webURL                 0\n",
       "articleWordCount       0\n",
       "dtype: int64"
      ]
     },
     "execution_count": 266,
     "metadata": {},
     "output_type": "execute_result"
    }
   ],
   "source": [
    "train_data.isnull().sum()"
   ]
  },
  {
   "cell_type": "code",
   "execution_count": 267,
   "metadata": {},
   "outputs": [],
   "source": [
    "# Select headline, keywords and newDesk columns\n",
    "train_data = train_data[['headline', 'keywords', 'newDesk']]\n",
    "test_data = test_data[['headline', 'keywords', 'newDesk']]"
   ]
  },
  {
   "cell_type": "code",
   "execution_count": 268,
   "metadata": {},
   "outputs": [
    {
     "data": {
      "text/plain": [
       "(8011, 3)"
      ]
     },
     "execution_count": 268,
     "metadata": {},
     "output_type": "execute_result"
    }
   ],
   "source": [
    "train_data.shape"
   ]
  },
  {
   "cell_type": "code",
   "execution_count": 269,
   "metadata": {},
   "outputs": [],
   "source": [
    "# Treat \"Unknown\" as missing values\n",
    "train_data.replace(['Unknown', '[]'], np.nan, inplace=True)\n",
    "test_data.replace(['Unknown', '[]'], np.nan, inplace=True)"
   ]
  },
  {
   "cell_type": "code",
   "execution_count": 270,
   "metadata": {},
   "outputs": [],
   "source": [
    "# Drop missing values\n",
    "train_data.dropna(inplace=True)\n",
    "test_data.dropna(inplace=True)\n",
    "\n",
    "# Drop duplicates\n",
    "train_data.drop_duplicates(inplace=True)\n",
    "test_data.drop_duplicates(inplace=True)"
   ]
  },
  {
   "cell_type": "code",
   "execution_count": 271,
   "metadata": {},
   "outputs": [
    {
     "data": {
      "text/plain": [
       "(1148, 3)"
      ]
     },
     "execution_count": 271,
     "metadata": {},
     "output_type": "execute_result"
    }
   ],
   "source": [
    "test_data.shape"
   ]
  },
  {
   "cell_type": "code",
   "execution_count": 272,
   "metadata": {},
   "outputs": [
    {
     "data": {
      "text/html": [
       "<div>\n",
       "<style scoped>\n",
       "    .dataframe tbody tr th:only-of-type {\n",
       "        vertical-align: middle;\n",
       "    }\n",
       "\n",
       "    .dataframe tbody tr th {\n",
       "        vertical-align: top;\n",
       "    }\n",
       "\n",
       "    .dataframe thead th {\n",
       "        text-align: right;\n",
       "    }\n",
       "</style>\n",
       "<table border=\"1\" class=\"dataframe\">\n",
       "  <thead>\n",
       "    <tr style=\"text-align: right;\">\n",
       "      <th></th>\n",
       "      <th>headline</th>\n",
       "      <th>keywords</th>\n",
       "      <th>newDesk</th>\n",
       "    </tr>\n",
       "  </thead>\n",
       "  <tbody>\n",
       "    <tr>\n",
       "      <th>0</th>\n",
       "      <td>G.O.P. Leadership Poised to Topple Obama’s Pi...</td>\n",
       "      <td>['United States Politics and Government', 'Law...</td>\n",
       "      <td>National</td>\n",
       "    </tr>\n",
       "    <tr>\n",
       "      <th>1</th>\n",
       "      <td>Fractured World Tested the Hope of a Young Pre...</td>\n",
       "      <td>['Obama, Barack', 'Afghanistan', 'United State...</td>\n",
       "      <td>Foreign</td>\n",
       "    </tr>\n",
       "    <tr>\n",
       "      <th>2</th>\n",
       "      <td>Little Troublemakers</td>\n",
       "      <td>['Crossword Puzzles', 'Boxing Day', 'Holidays ...</td>\n",
       "      <td>Games</td>\n",
       "    </tr>\n",
       "    <tr>\n",
       "      <th>3</th>\n",
       "      <td>Angela Merkel, Russia’s Next Target</td>\n",
       "      <td>['Cyberwarfare and Defense', 'Presidential Ele...</td>\n",
       "      <td>OpEd</td>\n",
       "    </tr>\n",
       "    <tr>\n",
       "      <th>4</th>\n",
       "      <td>Boots for a Stranger on a Bus</td>\n",
       "      <td>['Shoes and Boots', 'Buses', 'New York City']</td>\n",
       "      <td>Metro</td>\n",
       "    </tr>\n",
       "  </tbody>\n",
       "</table>\n",
       "</div>"
      ],
      "text/plain": [
       "                                            headline  \\\n",
       "0   G.O.P. Leadership Poised to Topple Obama’s Pi...   \n",
       "1  Fractured World Tested the Hope of a Young Pre...   \n",
       "2                               Little Troublemakers   \n",
       "3                Angela Merkel, Russia’s Next Target   \n",
       "4                      Boots for a Stranger on a Bus   \n",
       "\n",
       "                                            keywords   newDesk  \n",
       "0  ['United States Politics and Government', 'Law...  National  \n",
       "1  ['Obama, Barack', 'Afghanistan', 'United State...   Foreign  \n",
       "2  ['Crossword Puzzles', 'Boxing Day', 'Holidays ...     Games  \n",
       "3  ['Cyberwarfare and Defense', 'Presidential Ele...      OpEd  \n",
       "4      ['Shoes and Boots', 'Buses', 'New York City']     Metro  "
      ]
     },
     "execution_count": 272,
     "metadata": {},
     "output_type": "execute_result"
    }
   ],
   "source": [
    "train_data.head()"
   ]
  },
  {
   "cell_type": "code",
   "execution_count": 273,
   "metadata": {},
   "outputs": [
    {
     "data": {
      "text/html": [
       "<div>\n",
       "<style scoped>\n",
       "    .dataframe tbody tr th:only-of-type {\n",
       "        vertical-align: middle;\n",
       "    }\n",
       "\n",
       "    .dataframe tbody tr th {\n",
       "        vertical-align: top;\n",
       "    }\n",
       "\n",
       "    .dataframe thead th {\n",
       "        text-align: right;\n",
       "    }\n",
       "</style>\n",
       "<table border=\"1\" class=\"dataframe\">\n",
       "  <thead>\n",
       "    <tr style=\"text-align: right;\">\n",
       "      <th></th>\n",
       "      <th>headline</th>\n",
       "      <th>keywords</th>\n",
       "      <th>newDesk</th>\n",
       "    </tr>\n",
       "  </thead>\n",
       "  <tbody>\n",
       "    <tr>\n",
       "      <th>0</th>\n",
       "      <td>Former N.F.L. Cheerleaders’ Settlement Offer: ...</td>\n",
       "      <td>['Workplace Hazards and Violations', 'Football...</td>\n",
       "      <td>Sports</td>\n",
       "    </tr>\n",
       "    <tr>\n",
       "      <th>1</th>\n",
       "      <td>E.P.A. to Unveil a New Rule. Its Effect: Less ...</td>\n",
       "      <td>['Environmental Protection Agency', 'Pruitt, S...</td>\n",
       "      <td>Climate</td>\n",
       "    </tr>\n",
       "    <tr>\n",
       "      <th>2</th>\n",
       "      <td>The New Noma, Explained</td>\n",
       "      <td>['Restaurants', 'Noma (Copenhagen, Restaurant)...</td>\n",
       "      <td>Dining</td>\n",
       "    </tr>\n",
       "    <tr>\n",
       "      <th>8</th>\n",
       "      <td>How a Bag of Texas Dirt  Became a Times Tradition</td>\n",
       "      <td>['Texas', 'Soil', 'Pregnancy and Childbirth', ...</td>\n",
       "      <td>Insider</td>\n",
       "    </tr>\n",
       "    <tr>\n",
       "      <th>10</th>\n",
       "      <td>Commuter Reprogramming</td>\n",
       "      <td>['Bicycles and Bicycling', 'Google Maps', 'Com...</td>\n",
       "      <td>Magazine</td>\n",
       "    </tr>\n",
       "  </tbody>\n",
       "</table>\n",
       "</div>"
      ],
      "text/plain": [
       "                                             headline  \\\n",
       "0   Former N.F.L. Cheerleaders’ Settlement Offer: ...   \n",
       "1   E.P.A. to Unveil a New Rule. Its Effect: Less ...   \n",
       "2                             The New Noma, Explained   \n",
       "8   How a Bag of Texas Dirt  Became a Times Tradition   \n",
       "10                             Commuter Reprogramming   \n",
       "\n",
       "                                             keywords   newDesk  \n",
       "0   ['Workplace Hazards and Violations', 'Football...    Sports  \n",
       "1   ['Environmental Protection Agency', 'Pruitt, S...   Climate  \n",
       "2   ['Restaurants', 'Noma (Copenhagen, Restaurant)...    Dining  \n",
       "8   ['Texas', 'Soil', 'Pregnancy and Childbirth', ...   Insider  \n",
       "10  ['Bicycles and Bicycling', 'Google Maps', 'Com...  Magazine  "
      ]
     },
     "execution_count": 273,
     "metadata": {},
     "output_type": "execute_result"
    }
   ],
   "source": [
    "test_data.head()"
   ]
  },
  {
   "cell_type": "code",
   "execution_count": 274,
   "metadata": {},
   "outputs": [
    {
     "name": "stdout",
     "output_type": "stream",
     "text": [
      "<class 'pandas.core.frame.DataFrame'>\n",
      "Index: 6816 entries, 0 to 8010\n",
      "Data columns (total 3 columns):\n",
      " #   Column    Non-Null Count  Dtype \n",
      "---  ------    --------------  ----- \n",
      " 0   headline  6816 non-null   object\n",
      " 1   keywords  6816 non-null   object\n",
      " 2   newDesk   6816 non-null   object\n",
      "dtypes: object(3)\n",
      "memory usage: 213.0+ KB\n"
     ]
    }
   ],
   "source": [
    "train_data.info()"
   ]
  },
  {
   "cell_type": "code",
   "execution_count": 275,
   "metadata": {},
   "outputs": [
    {
     "data": {
      "text/plain": [
       "newDesk\n",
       "OpEd               1406\n",
       "National            476\n",
       "Culture             399\n",
       "Metro               394\n",
       "Foreign             388\n",
       "Magazine            312\n",
       "Dining              312\n",
       "Business            311\n",
       "Sports              296\n",
       "Editorial           287\n",
       "Games               267\n",
       "Washington          264\n",
       "Well                263\n",
       "Science             238\n",
       "Upshot              203\n",
       "RealEstate          157\n",
       "Insider             135\n",
       "Weekend             114\n",
       "Learning            105\n",
       "Travel               94\n",
       "Arts&Leisure         54\n",
       "SundayBusiness       49\n",
       "Metropolitan         44\n",
       "Styles               40\n",
       "BookReview           37\n",
       "Photo                25\n",
       "NewsDesk             19\n",
       "Investigative        18\n",
       "Climate              17\n",
       "Obits                15\n",
       "SpecialSections      15\n",
       "TStyle               12\n",
       "Smarter Living       11\n",
       "EdLife               11\n",
       "Politics              7\n",
       "Express               6\n",
       "Letters               5\n",
       "Video                 3\n",
       "Summary               3\n",
       "Society               2\n",
       "Automobiles           1\n",
       "NYTNow                1\n",
       "Name: count, dtype: int64"
      ]
     },
     "execution_count": 275,
     "metadata": {},
     "output_type": "execute_result"
    }
   ],
   "source": [
    "train_data['newDesk'].value_counts()"
   ]
  },
  {
   "cell_type": "code",
   "execution_count": 276,
   "metadata": {},
   "outputs": [
    {
     "data": {
      "text/plain": [
       "array(['National', 'Foreign', 'Games', 'OpEd', 'Metro', 'Sports',\n",
       "       'Culture', 'Editorial', 'Science', 'Upshot', 'Magazine',\n",
       "       'Business', 'SundayBusiness', 'RealEstate', 'Well', 'Dining',\n",
       "       'Styles', 'Insider', 'Learning', 'Weekend', 'BookReview', 'Travel',\n",
       "       'Metropolitan', 'Politics', 'EdLife', 'Letters', 'Arts&Leisure',\n",
       "       'SpecialSections', 'Investigative', 'NewsDesk', 'Summary',\n",
       "       'Automobiles', 'Society', 'Washington', 'Smarter Living',\n",
       "       'Climate', 'Obits', 'Express', 'Video', 'TStyle', 'Photo',\n",
       "       'NYTNow'], dtype=object)"
      ]
     },
     "execution_count": 276,
     "metadata": {},
     "output_type": "execute_result"
    }
   ],
   "source": [
    "train_data['newDesk'].unique()"
   ]
  },
  {
   "cell_type": "markdown",
   "metadata": {},
   "source": [
    "### **Binning Target Label**"
   ]
  },
  {
   "cell_type": "code",
   "execution_count": 277,
   "metadata": {},
   "outputs": [],
   "source": [
    "# bin the newDesk column\n",
    "def bin_newDesk(newDesk):\n",
    "    if newDesk in ['National', 'Foreign', 'Politics', 'Washington', 'Investigative', 'Metro', 'NewsDesk', 'Express', 'NYTNow', 'Metropolitan']:\n",
    "        return 'News'\n",
    "    elif newDesk in ['Sports', 'Games', 'Travel', 'BookReview']:\n",
    "        return 'Entertainment'\n",
    "    elif newDesk in ['Culture', 'Arts&Leisure', 'TStyle', 'Letters', 'Photo']:\n",
    "        return 'Arts&Culture'\n",
    "    elif newDesk in ['Business', 'SundayBusiness', 'RealEstate', 'Automobiles']:\n",
    "        return 'Business'\n",
    "    elif newDesk in ['Science', 'Climate']:\n",
    "        return 'Science&Climates'\n",
    "    elif newDesk in ['Smarter Living', 'Well', 'Styles', 'Society']:\n",
    "        return 'Lifestyle'\n",
    "    elif newDesk in ['OpEd', 'Editorial']:\n",
    "        return 'Opinion'\n",
    "    elif newDesk in ['Dining', 'Magazine', 'Weekend']:\n",
    "        return 'Leisure'\n",
    "    elif newDesk in ['SpecialSections', 'Summary', 'Upshot']:\n",
    "        return 'SpecialSections'\n",
    "    elif newDesk in ['Learning', 'EdLife']:\n",
    "        return 'Education'\n",
    "    elif newDesk in ['Video', 'Photo', 'Insider']:\n",
    "        return 'Media'\n",
    "    elif newDesk in ['Obits']:\n",
    "        return 'Obits'"
   ]
  },
  {
   "cell_type": "code",
   "execution_count": 278,
   "metadata": {},
   "outputs": [],
   "source": [
    "# Apply the function to the newDesk column\n",
    "train_data['newDesk'] = train_data['newDesk'].apply(bin_newDesk)\n",
    "test_data['newDesk'] = test_data['newDesk'].apply(bin_newDesk)"
   ]
  },
  {
   "cell_type": "code",
   "execution_count": 279,
   "metadata": {},
   "outputs": [
    {
     "data": {
      "text/plain": [
       "newDesk\n",
       "Opinion             1693\n",
       "News                1617\n",
       "Leisure              738\n",
       "Entertainment        694\n",
       "Business             518\n",
       "Arts&Culture         495\n",
       "Lifestyle            316\n",
       "Science&Climates     255\n",
       "SpecialSections      221\n",
       "Media                138\n",
       "Education            116\n",
       "Obits                 15\n",
       "Name: count, dtype: int64"
      ]
     },
     "execution_count": 279,
     "metadata": {},
     "output_type": "execute_result"
    }
   ],
   "source": [
    "train_data['newDesk'].value_counts()"
   ]
  },
  {
   "cell_type": "code",
   "execution_count": 280,
   "metadata": {},
   "outputs": [
    {
     "data": {
      "text/plain": [
       "headline    0\n",
       "keywords    0\n",
       "newDesk     0\n",
       "dtype: int64"
      ]
     },
     "execution_count": 280,
     "metadata": {},
     "output_type": "execute_result"
    }
   ],
   "source": [
    "train_data.isnull().sum()"
   ]
  },
  {
   "cell_type": "markdown",
   "metadata": {},
   "source": [
    "### **Label Encode**\n",
    "To label encode we make two dictionaries namely id2label and label2id. The label2id is used for mapping the label into integers on the dataframe by assigning the label as the key and a number as the value. While, id2label is used for translating the encoded labels back to its original form by assigning the number as the key and the label."
   ]
  },
  {
   "cell_type": "code",
   "execution_count": 281,
   "metadata": {},
   "outputs": [],
   "source": [
    "# Ensure newDesk column is cleaned (lowercase and stripped of extra spaces)\n",
    "train_data['newDesk'] = train_data['newDesk'].str.lower().str.strip()\n",
    "test_data['newDesk'] = test_data['newDesk'].str.lower().str.strip()\n",
    "\n",
    "# Get unique labels from the cleaned training data\n",
    "labels = train_data['newDesk'].unique()\n",
    "\n",
    "# Create id2label and label2id dictionaries\n",
    "id2label = {i: label for i, label in enumerate(labels)}\n",
    "label2id = {label: i for i, label in enumerate(labels)}"
   ]
  },
  {
   "cell_type": "code",
   "execution_count": 282,
   "metadata": {},
   "outputs": [
    {
     "name": "stdout",
     "output_type": "stream",
     "text": [
      "{'news': 0, 'entertainment': 1, 'opinion': 2, 'arts&culture': 3, 'science&climates': 4, 'specialsections': 5, 'leisure': 6, 'business': 7, 'lifestyle': 8, 'media': 9, 'education': 10, 'obits': 11}\n"
     ]
    }
   ],
   "source": [
    "print(label2id)"
   ]
  },
  {
   "cell_type": "code",
   "execution_count": 283,
   "metadata": {},
   "outputs": [
    {
     "name": "stdout",
     "output_type": "stream",
     "text": [
      "{0: 'news', 1: 'entertainment', 2: 'opinion', 3: 'arts&culture', 4: 'science&climates', 5: 'specialsections', 6: 'leisure', 7: 'business', 8: 'lifestyle', 9: 'media', 10: 'education', 11: 'obits'}\n"
     ]
    }
   ],
   "source": [
    "print(id2label)"
   ]
  },
  {
   "cell_type": "code",
   "execution_count": 284,
   "metadata": {},
   "outputs": [
    {
     "data": {
      "text/html": [
       "<div>\n",
       "<style scoped>\n",
       "    .dataframe tbody tr th:only-of-type {\n",
       "        vertical-align: middle;\n",
       "    }\n",
       "\n",
       "    .dataframe tbody tr th {\n",
       "        vertical-align: top;\n",
       "    }\n",
       "\n",
       "    .dataframe thead th {\n",
       "        text-align: right;\n",
       "    }\n",
       "</style>\n",
       "<table border=\"1\" class=\"dataframe\">\n",
       "  <thead>\n",
       "    <tr style=\"text-align: right;\">\n",
       "      <th></th>\n",
       "      <th>headline</th>\n",
       "      <th>keywords</th>\n",
       "      <th>newDesk</th>\n",
       "    </tr>\n",
       "  </thead>\n",
       "  <tbody>\n",
       "    <tr>\n",
       "      <th>0</th>\n",
       "      <td>G.O.P. Leadership Poised to Topple Obama’s Pi...</td>\n",
       "      <td>['United States Politics and Government', 'Law...</td>\n",
       "      <td>news</td>\n",
       "    </tr>\n",
       "    <tr>\n",
       "      <th>1</th>\n",
       "      <td>Fractured World Tested the Hope of a Young Pre...</td>\n",
       "      <td>['Obama, Barack', 'Afghanistan', 'United State...</td>\n",
       "      <td>news</td>\n",
       "    </tr>\n",
       "    <tr>\n",
       "      <th>2</th>\n",
       "      <td>Little Troublemakers</td>\n",
       "      <td>['Crossword Puzzles', 'Boxing Day', 'Holidays ...</td>\n",
       "      <td>entertainment</td>\n",
       "    </tr>\n",
       "    <tr>\n",
       "      <th>3</th>\n",
       "      <td>Angela Merkel, Russia’s Next Target</td>\n",
       "      <td>['Cyberwarfare and Defense', 'Presidential Ele...</td>\n",
       "      <td>opinion</td>\n",
       "    </tr>\n",
       "    <tr>\n",
       "      <th>4</th>\n",
       "      <td>Boots for a Stranger on a Bus</td>\n",
       "      <td>['Shoes and Boots', 'Buses', 'New York City']</td>\n",
       "      <td>news</td>\n",
       "    </tr>\n",
       "  </tbody>\n",
       "</table>\n",
       "</div>"
      ],
      "text/plain": [
       "                                            headline  \\\n",
       "0   G.O.P. Leadership Poised to Topple Obama’s Pi...   \n",
       "1  Fractured World Tested the Hope of a Young Pre...   \n",
       "2                               Little Troublemakers   \n",
       "3                Angela Merkel, Russia’s Next Target   \n",
       "4                      Boots for a Stranger on a Bus   \n",
       "\n",
       "                                            keywords        newDesk  \n",
       "0  ['United States Politics and Government', 'Law...           news  \n",
       "1  ['Obama, Barack', 'Afghanistan', 'United State...           news  \n",
       "2  ['Crossword Puzzles', 'Boxing Day', 'Holidays ...  entertainment  \n",
       "3  ['Cyberwarfare and Defense', 'Presidential Ele...        opinion  \n",
       "4      ['Shoes and Boots', 'Buses', 'New York City']           news  "
      ]
     },
     "execution_count": 284,
     "metadata": {},
     "output_type": "execute_result"
    }
   ],
   "source": [
    "train_data.head()"
   ]
  },
  {
   "cell_type": "code",
   "execution_count": 285,
   "metadata": {},
   "outputs": [
    {
     "data": {
      "text/html": [
       "<div>\n",
       "<style scoped>\n",
       "    .dataframe tbody tr th:only-of-type {\n",
       "        vertical-align: middle;\n",
       "    }\n",
       "\n",
       "    .dataframe tbody tr th {\n",
       "        vertical-align: top;\n",
       "    }\n",
       "\n",
       "    .dataframe thead th {\n",
       "        text-align: right;\n",
       "    }\n",
       "</style>\n",
       "<table border=\"1\" class=\"dataframe\">\n",
       "  <thead>\n",
       "    <tr style=\"text-align: right;\">\n",
       "      <th></th>\n",
       "      <th>headline</th>\n",
       "      <th>keywords</th>\n",
       "      <th>newDesk</th>\n",
       "    </tr>\n",
       "  </thead>\n",
       "  <tbody>\n",
       "    <tr>\n",
       "      <th>0</th>\n",
       "      <td>Former N.F.L. Cheerleaders’ Settlement Offer: ...</td>\n",
       "      <td>['Workplace Hazards and Violations', 'Football...</td>\n",
       "      <td>entertainment</td>\n",
       "    </tr>\n",
       "    <tr>\n",
       "      <th>1</th>\n",
       "      <td>E.P.A. to Unveil a New Rule. Its Effect: Less ...</td>\n",
       "      <td>['Environmental Protection Agency', 'Pruitt, S...</td>\n",
       "      <td>science&amp;climates</td>\n",
       "    </tr>\n",
       "    <tr>\n",
       "      <th>2</th>\n",
       "      <td>The New Noma, Explained</td>\n",
       "      <td>['Restaurants', 'Noma (Copenhagen, Restaurant)...</td>\n",
       "      <td>leisure</td>\n",
       "    </tr>\n",
       "    <tr>\n",
       "      <th>8</th>\n",
       "      <td>How a Bag of Texas Dirt  Became a Times Tradition</td>\n",
       "      <td>['Texas', 'Soil', 'Pregnancy and Childbirth', ...</td>\n",
       "      <td>media</td>\n",
       "    </tr>\n",
       "    <tr>\n",
       "      <th>10</th>\n",
       "      <td>Commuter Reprogramming</td>\n",
       "      <td>['Bicycles and Bicycling', 'Google Maps', 'Com...</td>\n",
       "      <td>leisure</td>\n",
       "    </tr>\n",
       "  </tbody>\n",
       "</table>\n",
       "</div>"
      ],
      "text/plain": [
       "                                             headline  \\\n",
       "0   Former N.F.L. Cheerleaders’ Settlement Offer: ...   \n",
       "1   E.P.A. to Unveil a New Rule. Its Effect: Less ...   \n",
       "2                             The New Noma, Explained   \n",
       "8   How a Bag of Texas Dirt  Became a Times Tradition   \n",
       "10                             Commuter Reprogramming   \n",
       "\n",
       "                                             keywords           newDesk  \n",
       "0   ['Workplace Hazards and Violations', 'Football...     entertainment  \n",
       "1   ['Environmental Protection Agency', 'Pruitt, S...  science&climates  \n",
       "2   ['Restaurants', 'Noma (Copenhagen, Restaurant)...           leisure  \n",
       "8   ['Texas', 'Soil', 'Pregnancy and Childbirth', ...             media  \n",
       "10  ['Bicycles and Bicycling', 'Google Maps', 'Com...           leisure  "
      ]
     },
     "execution_count": 285,
     "metadata": {},
     "output_type": "execute_result"
    }
   ],
   "source": [
    "test_data.head()"
   ]
  },
  {
   "cell_type": "code",
   "execution_count": 286,
   "metadata": {},
   "outputs": [],
   "source": [
    "test_data.reset_index(drop=True, inplace=True)\n",
    "\n",
    "test_data_labels = test_data['newDesk']\n",
    "test_data = test_data.drop(columns='newDesk')"
   ]
  },
  {
   "cell_type": "code",
   "execution_count": 287,
   "metadata": {},
   "outputs": [
    {
     "data": {
      "text/plain": [
       "0       entertainment\n",
       "1    science&climates\n",
       "2             leisure\n",
       "3               media\n",
       "4             leisure\n",
       "Name: newDesk, dtype: object"
      ]
     },
     "execution_count": 287,
     "metadata": {},
     "output_type": "execute_result"
    }
   ],
   "source": [
    "test_data_labels.head()"
   ]
  },
  {
   "cell_type": "code",
   "execution_count": 288,
   "metadata": {},
   "outputs": [
    {
     "data": {
      "text/plain": [
       "newDesk\n",
       "opinion             1693\n",
       "news                1617\n",
       "leisure              738\n",
       "entertainment        694\n",
       "business             518\n",
       "arts&culture         495\n",
       "lifestyle            316\n",
       "science&climates     255\n",
       "specialsections      221\n",
       "media                138\n",
       "education            116\n",
       "obits                 15\n",
       "Name: count, dtype: int64"
      ]
     },
     "execution_count": 288,
     "metadata": {},
     "output_type": "execute_result"
    }
   ],
   "source": [
    "train_data['newDesk'].value_counts()"
   ]
  },
  {
   "cell_type": "code",
   "execution_count": 289,
   "metadata": {},
   "outputs": [
    {
     "name": "stdout",
     "output_type": "stream",
     "text": [
      "<class 'pandas.core.frame.DataFrame'>\n",
      "Index: 6816 entries, 0 to 8010\n",
      "Data columns (total 3 columns):\n",
      " #   Column    Non-Null Count  Dtype \n",
      "---  ------    --------------  ----- \n",
      " 0   headline  6816 non-null   object\n",
      " 1   keywords  6816 non-null   object\n",
      " 2   newDesk   6816 non-null   object\n",
      "dtypes: object(3)\n",
      "memory usage: 213.0+ KB\n"
     ]
    }
   ],
   "source": [
    "train_data.info()"
   ]
  },
  {
   "cell_type": "markdown",
   "metadata": {},
   "source": [
    "### **Clean the text**"
   ]
  },
  {
   "cell_type": "code",
   "execution_count": 290,
   "metadata": {},
   "outputs": [
    {
     "name": "stderr",
     "output_type": "stream",
     "text": [
      "[nltk_data] Downloading package stopwords to\n",
      "[nltk_data]     /home/abhinawap/nltk_data...\n",
      "[nltk_data]   Package stopwords is already up-to-date!\n",
      "[nltk_data] Downloading package wordnet to\n",
      "[nltk_data]     /home/abhinawap/nltk_data...\n",
      "[nltk_data]   Package wordnet is already up-to-date!\n",
      "/home/abhinawap/miniconda3/envs/tf/lib/python3.12/site-packages/transformers/tokenization_utils_base.py:1601: FutureWarning: `clean_up_tokenization_spaces` was not set. It will be set to `True` by default. This behavior will be depracted in transformers v4.45, and will be then set to `False` by default. For more details check this issue: https://github.com/huggingface/transformers/issues/31884\n",
      "  warnings.warn(\n"
     ]
    }
   ],
   "source": [
    "# Download stopwords\n",
    "nltk.download('stopwords')\n",
    "nltk.download('wordnet')\n",
    "\n",
    "tokenizer = BertTokenizer.from_pretrained('bert-base-uncased')\n",
    "\n",
    "# Clean text function\n",
    "def clean_text(text):\n",
    "    # Convert to lowercase\n",
    "    text = text.lower()\n",
    "    \n",
    "    # Remove HTML tags\n",
    "    text = re.sub(r'<.*?>', '', text)\n",
    "    \n",
    "    # Remove URLs\n",
    "    text = re.sub(r'http\\S+', '', text)\n",
    "    \n",
    "    # Remove punctuation\n",
    "    text = text.translate(str.maketrans('', '', string.punctuation))\n",
    "    \n",
    "    # Remove stopwords\n",
    "    stop_words = set(stopwords.words('english'))\n",
    "    text = ' '.join([word for word in text.split() if word not in stop_words])\n",
    "    \n",
    "    # Remove special characters and numbers\n",
    "    text = re.sub(r'[^a-zA-Z\\s]', '', text)\n",
    "    \n",
    "    # Remove extra spaces\n",
    "    text = ' '.join(text.split())\n",
    "    \n",
    "    # Lemmatize words\n",
    "    text = ' '.join([lemmatizer.lemmatize(word) for word in text.split()])\n",
    "    \n",
    "    return text\n",
    "# Function to preprocess data for BERT with two text columns\n",
    "def preprocess_data(examples):\n",
    "    # Extract text columns\n",
    "    headlines = examples['headline']\n",
    "    keywords = examples['keywords']\n",
    "    \n",
    "    # Clean text\n",
    "    headlines = headlines.apply(clean_text)\n",
    "    keywords = keywords.apply(clean_text)\n",
    "    \n",
    "    # Concatenate text columns\n",
    "    text = headlines + ' ' + keywords\n",
    "    text = text.tolist()\n",
    "    \n",
    "    examples['text'] = text\n",
    "    examples = examples.drop(columns=['headline', 'keywords'])\n",
    "    \n",
    "    return examples"
   ]
  },
  {
   "cell_type": "markdown",
   "metadata": {},
   "source": [
    "## **Data Preprocessing**"
   ]
  },
  {
   "cell_type": "code",
   "execution_count": 291,
   "metadata": {},
   "outputs": [],
   "source": [
    "from sklearn.model_selection import train_test_split\n",
    "\n",
    "X = train_data[['headline', 'keywords']]\n",
    "y = train_data['newDesk']\n",
    "\n",
    "X_train, X_test, y_train, y_test = train_test_split(X, y, test_size=0.2, random_state=42)\n",
    "\n",
    "X_train, X_val, y_train, y_val = train_test_split(X_train, y_train, test_size=0.2, random_state=42)"
   ]
  },
  {
   "cell_type": "code",
   "execution_count": 292,
   "metadata": {},
   "outputs": [],
   "source": [
    "# reset index\n",
    "X_train.reset_index(drop=True, inplace=True)\n",
    "X_val.reset_index(drop=True, inplace=True)\n",
    "X_test.reset_index(drop=True, inplace=True)\n",
    "test_data.reset_index(drop=True, inplace=True)\n",
    "\n",
    "y_train.reset_index(drop=True, inplace=True)\n",
    "y_val.reset_index(drop=True, inplace=True)\n",
    "y_test.reset_index(drop=True, inplace=True)\n",
    "test_data_labels.reset_index(drop=True, inplace=True)"
   ]
  },
  {
   "cell_type": "code",
   "execution_count": 293,
   "metadata": {},
   "outputs": [],
   "source": [
    "# preprocess data\n",
    "X_train = preprocess_data(X_train)\n",
    "X_test = preprocess_data(X_test)\n",
    "X_val = preprocess_data(X_val)\n",
    "test_data = preprocess_data(test_data)\n",
    "\n",
    "# Map labels to integers\n",
    "y_train = y_train.map(label2id)\n",
    "y_val = y_val.map(label2id)\n",
    "y_test = y_test.map(label2id)\n",
    "test_data_labels = test_data_labels.map(label2id)"
   ]
  },
  {
   "cell_type": "markdown",
   "metadata": {},
   "source": [
    "# **EDA**"
   ]
  },
  {
   "cell_type": "code",
   "execution_count": 294,
   "metadata": {},
   "outputs": [],
   "source": [
    "X_train_eda = X_train.copy()"
   ]
  },
  {
   "cell_type": "code",
   "execution_count": 295,
   "metadata": {},
   "outputs": [
    {
     "data": {
      "text/plain": [
       "Text(0, 0.5, 'Count')"
      ]
     },
     "execution_count": 295,
     "metadata": {},
     "output_type": "execute_result"
    },
    {
     "data": {
      "image/png": "[encoded data removed]",
      "text/plain": [
       "<Figure size 1000x600 with 1 Axes>"
      ]
     },
     "metadata": {},
     "output_type": "display_data"
    }
   ],
   "source": [
    "# Histogram of the number of words in the text column\n",
    "plt.figure(figsize=(10, 6))\n",
    "sns.histplot(X_train_eda['text'].apply(lambda x: len(x.split())), bins=30)\n",
    "plt.title('Number of words in the text column')\n",
    "plt.xlabel('Number of words')\n",
    "plt.ylabel('Count')"
   ]
  },
  {
   "cell_type": "code",
   "execution_count": 296,
   "metadata": {},
   "outputs": [
    {
     "data": {
      "image/png": "[encoded data removed]",
      "text/plain": [
       "<Figure size 1000x600 with 1 Axes>"
      ]
     },
     "metadata": {},
     "output_type": "display_data"
    }
   ],
   "source": [
    "# Word frequency distribution log-log plot\n",
    "from collections import Counter\n",
    "\n",
    "# Tokenize text\n",
    "words = X_train_eda['text'].str.split().sum()\n",
    "\n",
    "# Count word frequency\n",
    "word_freq = Counter(words)\n",
    "\n",
    "# Sort word frequency\n",
    "word_freq = dict(sorted(word_freq.items(), key=lambda x: x[1], reverse=True))\n",
    "\n",
    "# Plot word frequency distribution\n",
    "plt.figure(figsize=(10, 6))\n",
    "plt.plot(list(word_freq.values()))\n",
    "plt.yscale('log')\n",
    "plt.xscale('log')\n",
    "plt.title('Word frequency distribution(log-log plot)')\n",
    "plt.xlabel('Rank')\n",
    "plt.ylabel('Frequency')\n",
    "plt.show()\n",
    "\n"
   ]
  },
  {
   "cell_type": "code",
   "execution_count": 297,
   "metadata": {},
   "outputs": [
    {
     "data": {
      "text/plain": [
       "Text(0, 0.5, 'Count')"
      ]
     },
     "execution_count": 297,
     "metadata": {},
     "output_type": "execute_result"
    },
    {
     "data": {
      "image/png": "[encoded data removed]",
      "text/plain": [
       "<Figure size 1000x600 with 1 Axes>"
      ]
     },
     "metadata": {},
     "output_type": "display_data"
    }
   ],
   "source": [
    "# Histogram for text length in characters\n",
    "plt.figure(figsize=(10, 6))\n",
    "sns.histplot(X_train_eda['text'].apply(len), bins=30)\n",
    "plt.title('Text length')\n",
    "plt.xlabel('Text length')\n",
    "plt.ylabel('Count')"
   ]
  },
  {
   "cell_type": "markdown",
   "metadata": {},
   "source": [
    "## **Tokenize and Data Loading**"
   ]
  },
  {
   "cell_type": "code",
   "execution_count": 298,
   "metadata": {},
   "outputs": [],
   "source": [
    "# tokenize text\n",
    "X_train_tokenized = tokenizer(X_train['text'].tolist(), truncation=True, padding=True)\n",
    "X_test_tokenized = tokenizer(X_test['text'].tolist(), truncation=True, padding=True)\n",
    "X_val_tokenized = tokenizer(X_val['text'].tolist(), truncation=True, padding=True)\n",
    "test_data_tokenized = tokenizer(test_data['text'].tolist(), truncation=True, padding=True)"
   ]
  },
  {
   "cell_type": "code",
   "execution_count": 299,
   "metadata": {},
   "outputs": [],
   "source": [
    "from torch.utils.data import DataLoader, Dataset\n",
    "\n",
    "class DataLoader(Dataset):\n",
    "    \"\"\"\n",
    "    Custom Dataset class for handling tokenized text data and corresponding labels.\n",
    "    Inherits from torch.utils.data.Dataset.\n",
    "    \"\"\"\n",
    "    def __init__(self, encodings, labels):\n",
    "        \"\"\"\n",
    "        Initializes the DataLoader class with encodings and labels.\n",
    "\n",
    "        Args:\n",
    "            encodings (dict): A dictionary containing tokenized input text data\n",
    "                              (e.g., 'input_ids', 'token_type_ids', 'attention_mask').\n",
    "            labels (list): A list of integer labels for the input text data.\n",
    "        \"\"\"\n",
    "        self.encodings = encodings\n",
    "        self.labels = labels\n",
    "\n",
    "    def __getitem__(self, idx):\n",
    "        \"\"\"\n",
    "        Returns a dictionary containing tokenized data and the corresponding label for a given index.\n",
    "\n",
    "        Args:\n",
    "            idx (int): The index of the data item to retrieve.\n",
    "\n",
    "        Returns:\n",
    "            item (dict): A dictionary containing the tokenized data and the corresponding label.\n",
    "        \"\"\"\n",
    "        # Retrieve tokenized data for the given index\n",
    "        item = {key: torch.tensor(val[idx]) for key, val in self.encodings.items()}\n",
    "        # Add the label for the given index to the item dictionary\n",
    "        item['labels'] = torch.tensor(self.labels[idx])\n",
    "        return item\n",
    "\n",
    "    def __len__(self):\n",
    "        \"\"\"\n",
    "        Returns the number of data items in the dataset.\n",
    "\n",
    "        Returns:\n",
    "            (int): The number of data items in the dataset.\n",
    "        \"\"\"\n",
    "        return len(self.labels)"
   ]
  },
  {
   "cell_type": "code",
   "execution_count": 300,
   "metadata": {},
   "outputs": [],
   "source": [
    "train_dataloader = DataLoader(X_train_tokenized, y_train)\n",
    "test_dataloader = DataLoader(X_test_tokenized, y_test)\n",
    "val_dataloader = DataLoader(X_val_tokenized, y_val)\n",
    "test_data_dataloader = DataLoader(test_data_tokenized, test_data_labels)"
   ]
  },
  {
   "cell_type": "markdown",
   "metadata": {},
   "source": [
    "# **Modelling**"
   ]
  },
  {
   "cell_type": "code",
   "execution_count": 301,
   "metadata": {},
   "outputs": [
    {
     "name": "stderr",
     "output_type": "stream",
     "text": [
      "Some weights of BertForSequenceClassification were not initialized from the model checkpoint at bert-base-uncased and are newly initialized: ['classifier.bias', 'classifier.weight']\n",
      "You should probably TRAIN this model on a down-stream task to be able to use it for predictions and inference.\n"
     ]
    },
    {
     "data": {
      "text/plain": [
       "BertForSequenceClassification(\n",
       "  (bert): BertModel(\n",
       "    (embeddings): BertEmbeddings(\n",
       "      (word_embeddings): Embedding(30522, 768, padding_idx=0)\n",
       "      (position_embeddings): Embedding(512, 768)\n",
       "      (token_type_embeddings): Embedding(2, 768)\n",
       "      (LayerNorm): LayerNorm((768,), eps=1e-12, elementwise_affine=True)\n",
       "      (dropout): Dropout(p=0.1, inplace=False)\n",
       "    )\n",
       "    (encoder): BertEncoder(\n",
       "      (layer): ModuleList(\n",
       "        (0-11): 12 x BertLayer(\n",
       "          (attention): BertAttention(\n",
       "            (self): BertSdpaSelfAttention(\n",
       "              (query): Linear(in_features=768, out_features=768, bias=True)\n",
       "              (key): Linear(in_features=768, out_features=768, bias=True)\n",
       "              (value): Linear(in_features=768, out_features=768, bias=True)\n",
       "              (dropout): Dropout(p=0.1, inplace=False)\n",
       "            )\n",
       "            (output): BertSelfOutput(\n",
       "              (dense): Linear(in_features=768, out_features=768, bias=True)\n",
       "              (LayerNorm): LayerNorm((768,), eps=1e-12, elementwise_affine=True)\n",
       "              (dropout): Dropout(p=0.1, inplace=False)\n",
       "            )\n",
       "          )\n",
       "          (intermediate): BertIntermediate(\n",
       "            (dense): Linear(in_features=768, out_features=3072, bias=True)\n",
       "            (intermediate_act_fn): GELUActivation()\n",
       "          )\n",
       "          (output): BertOutput(\n",
       "            (dense): Linear(in_features=3072, out_features=768, bias=True)\n",
       "            (LayerNorm): LayerNorm((768,), eps=1e-12, elementwise_affine=True)\n",
       "            (dropout): Dropout(p=0.1, inplace=False)\n",
       "          )\n",
       "        )\n",
       "      )\n",
       "    )\n",
       "    (pooler): BertPooler(\n",
       "      (dense): Linear(in_features=768, out_features=768, bias=True)\n",
       "      (activation): Tanh()\n",
       "    )\n",
       "  )\n",
       "  (dropout): Dropout(p=0.1, inplace=False)\n",
       "  (classifier): Linear(in_features=768, out_features=12, bias=True)\n",
       ")"
      ]
     },
     "execution_count": 301,
     "metadata": {},
     "output_type": "execute_result"
    }
   ],
   "source": [
    "model = BertForSequenceClassification.from_pretrained(\"bert-base-uncased\",  \n",
    "                                                           num_labels=len(labels),\n",
    "                                                           id2label=id2label,\n",
    "                                                           label2id=label2id)\n",
    "model.to(device)"
   ]
  },
  {
   "cell_type": "code",
   "execution_count": 302,
   "metadata": {},
   "outputs": [],
   "source": [
    "def compute_metrics(pred):\n",
    "    \"\"\"\n",
    "    Computes accuracy, F1, precision, and recall for a given set of predictions.\n",
    "    \n",
    "    Args:\n",
    "        pred (obj): An object containing label_ids and predictions attributes.\n",
    "            - label_ids (array-like): A 1D array of true class labels.\n",
    "            - predictions (array-like): A 2D array where each row represents\n",
    "              an observation, and each column represents the probability of \n",
    "              that observation belonging to a certain class.\n",
    "              \n",
    "    Returns:\n",
    "        dict: A dictionary containing the following metrics:\n",
    "            - Accuracy (float): The proportion of correctly classified instances.\n",
    "            - F1 (float): The macro F1 score, which is the harmonic mean of precision\n",
    "              and recall. Macro averaging calculates the metric independently for\n",
    "              each class and then takes the average.\n",
    "            - Precision (float): The macro precision, which is the number of true\n",
    "              positives divided by the sum of true positives and false positives.\n",
    "            - Recall (float): The macro recall, which is the number of true positives\n",
    "              divided by the sum of true positives and false negatives.\n",
    "    \"\"\"\n",
    "    # Extract true labels from the input object\n",
    "    labels = pred.label_ids\n",
    "    \n",
    "    # Obtain predicted class labels by finding the column index with the maximum probability\n",
    "    preds = pred.predictions.argmax(-1)\n",
    "    \n",
    "    # Compute macro precision, recall, and F1 score using sklearn's precision_recall_fscore_support function\n",
    "    precision, recall, f1, _ = precision_recall_fscore_support(labels, preds, average='macro')\n",
    "    \n",
    "    # Calculate the accuracy score using sklearn's accuracy_score function\n",
    "    acc = accuracy_score(labels, preds)\n",
    "    \n",
    "    # Return the computed metrics as a dictionary\n",
    "    return {\n",
    "        'Accuracy': acc,\n",
    "        'F1': f1,\n",
    "        'Precision': precision,\n",
    "        'Recall': recall\n",
    "    }"
   ]
  },
  {
   "cell_type": "code",
   "execution_count": 303,
   "metadata": {},
   "outputs": [
    {
     "name": "stderr",
     "output_type": "stream",
     "text": [
      "/home/abhinawap/miniconda3/envs/tf/lib/python3.12/site-packages/transformers/training_args.py:1525: FutureWarning: `evaluation_strategy` is deprecated and will be removed in version 4.46 of 🤗 Transformers. Use `eval_strategy` instead\n",
      "  warnings.warn(\n"
     ]
    }
   ],
   "source": [
    "training_args = TrainingArguments(\n",
    "    # The output directory where the model predictions and checkpoints will be written\n",
    "    output_dir='./TTC4900Model', \n",
    "    do_train=True,\n",
    "    do_eval=True,\n",
    "    #  The number of epochs, defaults to 3.0 \n",
    "    num_train_epochs=5,              \n",
    "    per_device_train_batch_size=16,  \n",
    "    per_device_eval_batch_size=32,\n",
    "    # Number of steps used for a linear warmup\n",
    "    warmup_steps=100,                \n",
    "    weight_decay=0.01,\n",
    "    logging_strategy='steps',\n",
    "   # TensorBoard log directory                 \n",
    "    logging_dir='./multi-class-logs',            \n",
    "    logging_steps=50,\n",
    "    evaluation_strategy=\"steps\",\n",
    "    eval_steps=50,\n",
    "    save_strategy=\"steps\", \n",
    "    fp16=True,\n",
    "    load_best_model_at_end=True,\n",
    "    learning_rate=0.00005,\n",
    "    metric_for_best_model='F1',\n",
    "    greater_is_better=True,\n",
    ")"
   ]
  },
  {
   "cell_type": "code",
   "execution_count": 304,
   "metadata": {},
   "outputs": [
    {
     "name": "stderr",
     "output_type": "stream",
     "text": [
      "/home/abhinawap/miniconda3/envs/tf/lib/python3.12/site-packages/accelerate/accelerator.py:494: FutureWarning: `torch.cuda.amp.GradScaler(args...)` is deprecated. Please use `torch.amp.GradScaler('cuda', args...)` instead.\n",
      "  self.scaler = torch.cuda.amp.GradScaler(**kwargs)\n"
     ]
    }
   ],
   "source": [
    "trainer = Trainer(\n",
    "    # the pre-trained model that will be fine-tuned \n",
    "    model=model,\n",
    "     # training arguments that we defined above                        \n",
    "    args=training_args,                 \n",
    "    train_dataset=train_dataloader,         \n",
    "    eval_dataset=val_dataloader,            \n",
    "    compute_metrics= compute_metrics\n",
    ")"
   ]
  },
  {
   "cell_type": "code",
   "execution_count": 305,
   "metadata": {},
   "outputs": [
    {
     "data": {
      "text/html": [
       "\n",
       "    <div>\n",
       "      \n",
       "      <progress value='1365' max='1365' style='width:300px; height:20px; vertical-align: middle;'></progress>\n",
       "      [1365/1365 02:57, Epoch 5/5]\n",
       "    </div>\n",
       "    <table border=\"1\" class=\"dataframe\">\n",
       "  <thead>\n",
       " <tr style=\"text-align: left;\">\n",
       "      <th>Step</th>\n",
       "      <th>Training Loss</th>\n",
       "      <th>Validation Loss</th>\n",
       "      <th>Accuracy</th>\n",
       "      <th>F1</th>\n",
       "      <th>Precision</th>\n",
       "      <th>Recall</th>\n",
       "    </tr>\n",
       "  </thead>\n",
       "  <tbody>\n",
       "    <tr>\n",
       "      <td>50</td>\n",
       "      <td>2.272100</td>\n",
       "      <td>1.944604</td>\n",
       "      <td>0.298808</td>\n",
       "      <td>0.101328</td>\n",
       "      <td>0.256502</td>\n",
       "      <td>0.126633</td>\n",
       "    </tr>\n",
       "    <tr>\n",
       "      <td>100</td>\n",
       "      <td>1.754100</td>\n",
       "      <td>1.414908</td>\n",
       "      <td>0.571952</td>\n",
       "      <td>0.371893</td>\n",
       "      <td>0.466169</td>\n",
       "      <td>0.388225</td>\n",
       "    </tr>\n",
       "    <tr>\n",
       "      <td>150</td>\n",
       "      <td>1.356600</td>\n",
       "      <td>1.206980</td>\n",
       "      <td>0.570119</td>\n",
       "      <td>0.438872</td>\n",
       "      <td>0.463766</td>\n",
       "      <td>0.459164</td>\n",
       "    </tr>\n",
       "    <tr>\n",
       "      <td>200</td>\n",
       "      <td>1.182300</td>\n",
       "      <td>1.167546</td>\n",
       "      <td>0.605866</td>\n",
       "      <td>0.456987</td>\n",
       "      <td>0.487136</td>\n",
       "      <td>0.474161</td>\n",
       "    </tr>\n",
       "    <tr>\n",
       "      <td>250</td>\n",
       "      <td>1.214800</td>\n",
       "      <td>0.981416</td>\n",
       "      <td>0.690192</td>\n",
       "      <td>0.538241</td>\n",
       "      <td>0.568687</td>\n",
       "      <td>0.536021</td>\n",
       "    </tr>\n",
       "    <tr>\n",
       "      <td>300</td>\n",
       "      <td>0.974900</td>\n",
       "      <td>0.942168</td>\n",
       "      <td>0.709441</td>\n",
       "      <td>0.545360</td>\n",
       "      <td>0.555465</td>\n",
       "      <td>0.543479</td>\n",
       "    </tr>\n",
       "    <tr>\n",
       "      <td>350</td>\n",
       "      <td>0.826400</td>\n",
       "      <td>0.924970</td>\n",
       "      <td>0.714940</td>\n",
       "      <td>0.552656</td>\n",
       "      <td>0.607648</td>\n",
       "      <td>0.543531</td>\n",
       "    </tr>\n",
       "    <tr>\n",
       "      <td>400</td>\n",
       "      <td>0.794700</td>\n",
       "      <td>0.909676</td>\n",
       "      <td>0.722273</td>\n",
       "      <td>0.572630</td>\n",
       "      <td>0.607852</td>\n",
       "      <td>0.558221</td>\n",
       "    </tr>\n",
       "    <tr>\n",
       "      <td>450</td>\n",
       "      <td>0.778800</td>\n",
       "      <td>0.919966</td>\n",
       "      <td>0.703941</td>\n",
       "      <td>0.562817</td>\n",
       "      <td>0.583184</td>\n",
       "      <td>0.558274</td>\n",
       "    </tr>\n",
       "    <tr>\n",
       "      <td>500</td>\n",
       "      <td>0.824200</td>\n",
       "      <td>0.897421</td>\n",
       "      <td>0.731439</td>\n",
       "      <td>0.565057</td>\n",
       "      <td>0.610446</td>\n",
       "      <td>0.552881</td>\n",
       "    </tr>\n",
       "    <tr>\n",
       "      <td>550</td>\n",
       "      <td>0.749600</td>\n",
       "      <td>0.836269</td>\n",
       "      <td>0.745188</td>\n",
       "      <td>0.591719</td>\n",
       "      <td>0.596233</td>\n",
       "      <td>0.599226</td>\n",
       "    </tr>\n",
       "    <tr>\n",
       "      <td>600</td>\n",
       "      <td>0.494900</td>\n",
       "      <td>0.885612</td>\n",
       "      <td>0.736022</td>\n",
       "      <td>0.563812</td>\n",
       "      <td>0.597172</td>\n",
       "      <td>0.553582</td>\n",
       "    </tr>\n",
       "    <tr>\n",
       "      <td>650</td>\n",
       "      <td>0.547800</td>\n",
       "      <td>0.905258</td>\n",
       "      <td>0.736022</td>\n",
       "      <td>0.564533</td>\n",
       "      <td>0.588070</td>\n",
       "      <td>0.558379</td>\n",
       "    </tr>\n",
       "    <tr>\n",
       "      <td>700</td>\n",
       "      <td>0.554500</td>\n",
       "      <td>0.832841</td>\n",
       "      <td>0.755270</td>\n",
       "      <td>0.597427</td>\n",
       "      <td>0.606229</td>\n",
       "      <td>0.595765</td>\n",
       "    </tr>\n",
       "    <tr>\n",
       "      <td>750</td>\n",
       "      <td>0.431100</td>\n",
       "      <td>0.895721</td>\n",
       "      <td>0.739688</td>\n",
       "      <td>0.577252</td>\n",
       "      <td>0.579603</td>\n",
       "      <td>0.585227</td>\n",
       "    </tr>\n",
       "    <tr>\n",
       "      <td>800</td>\n",
       "      <td>0.470100</td>\n",
       "      <td>0.865898</td>\n",
       "      <td>0.744271</td>\n",
       "      <td>0.593301</td>\n",
       "      <td>0.588012</td>\n",
       "      <td>0.607106</td>\n",
       "    </tr>\n",
       "    <tr>\n",
       "      <td>850</td>\n",
       "      <td>0.356500</td>\n",
       "      <td>0.874405</td>\n",
       "      <td>0.758020</td>\n",
       "      <td>0.588558</td>\n",
       "      <td>0.591902</td>\n",
       "      <td>0.594945</td>\n",
       "    </tr>\n",
       "    <tr>\n",
       "      <td>900</td>\n",
       "      <td>0.326300</td>\n",
       "      <td>0.911864</td>\n",
       "      <td>0.760770</td>\n",
       "      <td>0.598465</td>\n",
       "      <td>0.605908</td>\n",
       "      <td>0.601173</td>\n",
       "    </tr>\n",
       "    <tr>\n",
       "      <td>950</td>\n",
       "      <td>0.256900</td>\n",
       "      <td>0.939245</td>\n",
       "      <td>0.751604</td>\n",
       "      <td>0.593699</td>\n",
       "      <td>0.606892</td>\n",
       "      <td>0.586702</td>\n",
       "    </tr>\n",
       "    <tr>\n",
       "      <td>1000</td>\n",
       "      <td>0.327700</td>\n",
       "      <td>0.952643</td>\n",
       "      <td>0.756187</td>\n",
       "      <td>0.601505</td>\n",
       "      <td>0.608499</td>\n",
       "      <td>0.607834</td>\n",
       "    </tr>\n",
       "    <tr>\n",
       "      <td>1050</td>\n",
       "      <td>0.237800</td>\n",
       "      <td>0.951640</td>\n",
       "      <td>0.756187</td>\n",
       "      <td>0.594415</td>\n",
       "      <td>0.598947</td>\n",
       "      <td>0.594486</td>\n",
       "    </tr>\n",
       "    <tr>\n",
       "      <td>1100</td>\n",
       "      <td>0.279500</td>\n",
       "      <td>0.958672</td>\n",
       "      <td>0.749771</td>\n",
       "      <td>0.589297</td>\n",
       "      <td>0.609808</td>\n",
       "      <td>0.577350</td>\n",
       "    </tr>\n",
       "    <tr>\n",
       "      <td>1150</td>\n",
       "      <td>0.133200</td>\n",
       "      <td>0.960438</td>\n",
       "      <td>0.762603</td>\n",
       "      <td>0.603423</td>\n",
       "      <td>0.611973</td>\n",
       "      <td>0.600847</td>\n",
       "    </tr>\n",
       "    <tr>\n",
       "      <td>1200</td>\n",
       "      <td>0.141700</td>\n",
       "      <td>0.984835</td>\n",
       "      <td>0.764436</td>\n",
       "      <td>0.610358</td>\n",
       "      <td>0.620819</td>\n",
       "      <td>0.604534</td>\n",
       "    </tr>\n",
       "    <tr>\n",
       "      <td>1250</td>\n",
       "      <td>0.148800</td>\n",
       "      <td>0.996510</td>\n",
       "      <td>0.766269</td>\n",
       "      <td>0.610355</td>\n",
       "      <td>0.619059</td>\n",
       "      <td>0.607720</td>\n",
       "    </tr>\n",
       "    <tr>\n",
       "      <td>1300</td>\n",
       "      <td>0.169400</td>\n",
       "      <td>0.999491</td>\n",
       "      <td>0.761687</td>\n",
       "      <td>0.605795</td>\n",
       "      <td>0.612301</td>\n",
       "      <td>0.605468</td>\n",
       "    </tr>\n",
       "    <tr>\n",
       "      <td>1350</td>\n",
       "      <td>0.151900</td>\n",
       "      <td>1.014220</td>\n",
       "      <td>0.756187</td>\n",
       "      <td>0.601685</td>\n",
       "      <td>0.606710</td>\n",
       "      <td>0.604180</td>\n",
       "    </tr>\n",
       "  </tbody>\n",
       "</table><p>"
      ],
      "text/plain": [
       "<IPython.core.display.HTML object>"
      ]
     },
     "metadata": {},
     "output_type": "display_data"
    },
    {
     "name": "stderr",
     "output_type": "stream",
     "text": [
      "/home/abhinawap/miniconda3/envs/tf/lib/python3.12/site-packages/sklearn/metrics/_classification.py:1531: UndefinedMetricWarning: Precision is ill-defined and being set to 0.0 in labels with no predicted samples. Use `zero_division` parameter to control this behavior.\n",
      "  _warn_prf(average, modifier, f\"{metric.capitalize()} is\", len(result))\n",
      "/home/abhinawap/miniconda3/envs/tf/lib/python3.12/site-packages/sklearn/metrics/_classification.py:1531: UndefinedMetricWarning: Precision is ill-defined and being set to 0.0 in labels with no predicted samples. Use `zero_division` parameter to control this behavior.\n",
      "  _warn_prf(average, modifier, f\"{metric.capitalize()} is\", len(result))\n",
      "/home/abhinawap/miniconda3/envs/tf/lib/python3.12/site-packages/sklearn/metrics/_classification.py:1531: UndefinedMetricWarning: Precision is ill-defined and being set to 0.0 in labels with no predicted samples. Use `zero_division` parameter to control this behavior.\n",
      "  _warn_prf(average, modifier, f\"{metric.capitalize()} is\", len(result))\n",
      "/home/abhinawap/miniconda3/envs/tf/lib/python3.12/site-packages/sklearn/metrics/_classification.py:1531: UndefinedMetricWarning: Precision is ill-defined and being set to 0.0 in labels with no predicted samples. Use `zero_division` parameter to control this behavior.\n",
      "  _warn_prf(average, modifier, f\"{metric.capitalize()} is\", len(result))\n",
      "/home/abhinawap/miniconda3/envs/tf/lib/python3.12/site-packages/sklearn/metrics/_classification.py:1531: UndefinedMetricWarning: Precision is ill-defined and being set to 0.0 in labels with no predicted samples. Use `zero_division` parameter to control this behavior.\n",
      "  _warn_prf(average, modifier, f\"{metric.capitalize()} is\", len(result))\n",
      "/home/abhinawap/miniconda3/envs/tf/lib/python3.12/site-packages/sklearn/metrics/_classification.py:1531: UndefinedMetricWarning: Precision is ill-defined and being set to 0.0 in labels with no predicted samples. Use `zero_division` parameter to control this behavior.\n",
      "  _warn_prf(average, modifier, f\"{metric.capitalize()} is\", len(result))\n",
      "/home/abhinawap/miniconda3/envs/tf/lib/python3.12/site-packages/sklearn/metrics/_classification.py:1531: UndefinedMetricWarning: Precision is ill-defined and being set to 0.0 in labels with no predicted samples. Use `zero_division` parameter to control this behavior.\n",
      "  _warn_prf(average, modifier, f\"{metric.capitalize()} is\", len(result))\n",
      "/home/abhinawap/miniconda3/envs/tf/lib/python3.12/site-packages/sklearn/metrics/_classification.py:1531: UndefinedMetricWarning: Precision is ill-defined and being set to 0.0 in labels with no predicted samples. Use `zero_division` parameter to control this behavior.\n",
      "  _warn_prf(average, modifier, f\"{metric.capitalize()} is\", len(result))\n",
      "/home/abhinawap/miniconda3/envs/tf/lib/python3.12/site-packages/sklearn/metrics/_classification.py:1531: UndefinedMetricWarning: Precision is ill-defined and being set to 0.0 in labels with no predicted samples. Use `zero_division` parameter to control this behavior.\n",
      "  _warn_prf(average, modifier, f\"{metric.capitalize()} is\", len(result))\n",
      "/home/abhinawap/miniconda3/envs/tf/lib/python3.12/site-packages/sklearn/metrics/_classification.py:1531: UndefinedMetricWarning: Precision is ill-defined and being set to 0.0 in labels with no predicted samples. Use `zero_division` parameter to control this behavior.\n",
      "  _warn_prf(average, modifier, f\"{metric.capitalize()} is\", len(result))\n",
      "/home/abhinawap/miniconda3/envs/tf/lib/python3.12/site-packages/sklearn/metrics/_classification.py:1531: UndefinedMetricWarning: Precision is ill-defined and being set to 0.0 in labels with no predicted samples. Use `zero_division` parameter to control this behavior.\n",
      "  _warn_prf(average, modifier, f\"{metric.capitalize()} is\", len(result))\n",
      "/home/abhinawap/miniconda3/envs/tf/lib/python3.12/site-packages/sklearn/metrics/_classification.py:1531: UndefinedMetricWarning: Precision is ill-defined and being set to 0.0 in labels with no predicted samples. Use `zero_division` parameter to control this behavior.\n",
      "  _warn_prf(average, modifier, f\"{metric.capitalize()} is\", len(result))\n",
      "/home/abhinawap/miniconda3/envs/tf/lib/python3.12/site-packages/sklearn/metrics/_classification.py:1531: UndefinedMetricWarning: Precision is ill-defined and being set to 0.0 in labels with no predicted samples. Use `zero_division` parameter to control this behavior.\n",
      "  _warn_prf(average, modifier, f\"{metric.capitalize()} is\", len(result))\n",
      "/home/abhinawap/miniconda3/envs/tf/lib/python3.12/site-packages/sklearn/metrics/_classification.py:1531: UndefinedMetricWarning: Precision is ill-defined and being set to 0.0 in labels with no predicted samples. Use `zero_division` parameter to control this behavior.\n",
      "  _warn_prf(average, modifier, f\"{metric.capitalize()} is\", len(result))\n",
      "/home/abhinawap/miniconda3/envs/tf/lib/python3.12/site-packages/sklearn/metrics/_classification.py:1531: UndefinedMetricWarning: Precision is ill-defined and being set to 0.0 in labels with no predicted samples. Use `zero_division` parameter to control this behavior.\n",
      "  _warn_prf(average, modifier, f\"{metric.capitalize()} is\", len(result))\n",
      "/home/abhinawap/miniconda3/envs/tf/lib/python3.12/site-packages/sklearn/metrics/_classification.py:1531: UndefinedMetricWarning: Precision is ill-defined and being set to 0.0 in labels with no predicted samples. Use `zero_division` parameter to control this behavior.\n",
      "  _warn_prf(average, modifier, f\"{metric.capitalize()} is\", len(result))\n",
      "/home/abhinawap/miniconda3/envs/tf/lib/python3.12/site-packages/sklearn/metrics/_classification.py:1531: UndefinedMetricWarning: Precision is ill-defined and being set to 0.0 in labels with no predicted samples. Use `zero_division` parameter to control this behavior.\n",
      "  _warn_prf(average, modifier, f\"{metric.capitalize()} is\", len(result))\n",
      "/home/abhinawap/miniconda3/envs/tf/lib/python3.12/site-packages/sklearn/metrics/_classification.py:1531: UndefinedMetricWarning: Precision is ill-defined and being set to 0.0 in labels with no predicted samples. Use `zero_division` parameter to control this behavior.\n",
      "  _warn_prf(average, modifier, f\"{metric.capitalize()} is\", len(result))\n",
      "/home/abhinawap/miniconda3/envs/tf/lib/python3.12/site-packages/sklearn/metrics/_classification.py:1531: UndefinedMetricWarning: Precision is ill-defined and being set to 0.0 in labels with no predicted samples. Use `zero_division` parameter to control this behavior.\n",
      "  _warn_prf(average, modifier, f\"{metric.capitalize()} is\", len(result))\n",
      "/home/abhinawap/miniconda3/envs/tf/lib/python3.12/site-packages/sklearn/metrics/_classification.py:1531: UndefinedMetricWarning: Precision is ill-defined and being set to 0.0 in labels with no predicted samples. Use `zero_division` parameter to control this behavior.\n",
      "  _warn_prf(average, modifier, f\"{metric.capitalize()} is\", len(result))\n",
      "/home/abhinawap/miniconda3/envs/tf/lib/python3.12/site-packages/sklearn/metrics/_classification.py:1531: UndefinedMetricWarning: Precision is ill-defined and being set to 0.0 in labels with no predicted samples. Use `zero_division` parameter to control this behavior.\n",
      "  _warn_prf(average, modifier, f\"{metric.capitalize()} is\", len(result))\n",
      "/home/abhinawap/miniconda3/envs/tf/lib/python3.12/site-packages/sklearn/metrics/_classification.py:1531: UndefinedMetricWarning: Precision is ill-defined and being set to 0.0 in labels with no predicted samples. Use `zero_division` parameter to control this behavior.\n",
      "  _warn_prf(average, modifier, f\"{metric.capitalize()} is\", len(result))\n",
      "/home/abhinawap/miniconda3/envs/tf/lib/python3.12/site-packages/sklearn/metrics/_classification.py:1531: UndefinedMetricWarning: Precision is ill-defined and being set to 0.0 in labels with no predicted samples. Use `zero_division` parameter to control this behavior.\n",
      "  _warn_prf(average, modifier, f\"{metric.capitalize()} is\", len(result))\n",
      "/home/abhinawap/miniconda3/envs/tf/lib/python3.12/site-packages/sklearn/metrics/_classification.py:1531: UndefinedMetricWarning: Precision is ill-defined and being set to 0.0 in labels with no predicted samples. Use `zero_division` parameter to control this behavior.\n",
      "  _warn_prf(average, modifier, f\"{metric.capitalize()} is\", len(result))\n",
      "/home/abhinawap/miniconda3/envs/tf/lib/python3.12/site-packages/sklearn/metrics/_classification.py:1531: UndefinedMetricWarning: Precision is ill-defined and being set to 0.0 in labels with no predicted samples. Use `zero_division` parameter to control this behavior.\n",
      "  _warn_prf(average, modifier, f\"{metric.capitalize()} is\", len(result))\n",
      "/home/abhinawap/miniconda3/envs/tf/lib/python3.12/site-packages/sklearn/metrics/_classification.py:1531: UndefinedMetricWarning: Precision is ill-defined and being set to 0.0 in labels with no predicted samples. Use `zero_division` parameter to control this behavior.\n",
      "  _warn_prf(average, modifier, f\"{metric.capitalize()} is\", len(result))\n",
      "/home/abhinawap/miniconda3/envs/tf/lib/python3.12/site-packages/sklearn/metrics/_classification.py:1531: UndefinedMetricWarning: Precision is ill-defined and being set to 0.0 in labels with no predicted samples. Use `zero_division` parameter to control this behavior.\n",
      "  _warn_prf(average, modifier, f\"{metric.capitalize()} is\", len(result))\n"
     ]
    },
    {
     "data": {
      "text/plain": [
       "TrainOutput(global_step=1365, training_loss=0.6520721075735686, metrics={'train_runtime': 177.5807, 'train_samples_per_second': 122.789, 'train_steps_per_second': 7.687, 'total_flos': 1143047794921200.0, 'train_loss': 0.6520721075735686, 'epoch': 5.0})"
      ]
     },
     "execution_count": 305,
     "metadata": {},
     "output_type": "execute_result"
    }
   ],
   "source": [
    "trainer.train()"
   ]
  },
  {
   "cell_type": "markdown",
   "metadata": {},
   "source": [
    "## **Evaluation**"
   ]
  },
  {
   "cell_type": "code",
   "execution_count": 313,
   "metadata": {},
   "outputs": [
    {
     "data": {
      "text/html": [
       "\n",
       "    <div>\n",
       "      \n",
       "      <progress value='35' max='35' style='width:300px; height:20px; vertical-align: middle;'></progress>\n",
       "      [35/35 00:01]\n",
       "    </div>\n",
       "    "
      ],
      "text/plain": [
       "<IPython.core.display.HTML object>"
      ]
     },
     "metadata": {},
     "output_type": "display_data"
    },
    {
     "name": "stderr",
     "output_type": "stream",
     "text": [
      "/home/abhinawap/miniconda3/envs/tf/lib/python3.12/site-packages/sklearn/metrics/_classification.py:1531: UndefinedMetricWarning: Precision is ill-defined and being set to 0.0 in labels with no predicted samples. Use `zero_division` parameter to control this behavior.\n",
      "  _warn_prf(average, modifier, f\"{metric.capitalize()} is\", len(result))\n"
     ]
    },
    {
     "data": {
      "text/plain": [
       "{'eval_loss': 0.9526429772377014,\n",
       " 'eval_Accuracy': 0.7561869844179652,\n",
       " 'eval_F1': 0.6015050555189182,\n",
       " 'eval_Precision': 0.6084994258349439,\n",
       " 'eval_Recall': 0.6078335938153394,\n",
       " 'eval_runtime': 1.2704,\n",
       " 'eval_samples_per_second': 858.765,\n",
       " 'eval_steps_per_second': 27.55,\n",
       " 'epoch': 5.0}"
      ]
     },
     "execution_count": 313,
     "metadata": {},
     "output_type": "execute_result"
    }
   ],
   "source": [
    "trainer.evaluate()"
   ]
  },
  {
   "cell_type": "code",
   "execution_count": 307,
   "metadata": {},
   "outputs": [
    {
     "name": "stderr",
     "output_type": "stream",
     "text": [
      "/home/abhinawap/miniconda3/envs/tf/lib/python3.12/site-packages/sklearn/metrics/_classification.py:1531: UndefinedMetricWarning: Precision is ill-defined and being set to 0.0 in labels with no predicted samples. Use `zero_division` parameter to control this behavior.\n",
      "  _warn_prf(average, modifier, f\"{metric.capitalize()} is\", len(result))\n"
     ]
    },
    {
     "name": "stdout",
     "output_type": "stream",
     "text": [
      "{'Accuracy': 0.7265395894428153, 'F1': 0.5891299740991144, 'Precision': 0.5926041329966454, 'Recall': 0.5940090489062061}\n"
     ]
    },
    {
     "name": "stderr",
     "output_type": "stream",
     "text": [
      "/home/abhinawap/miniconda3/envs/tf/lib/python3.12/site-packages/sklearn/metrics/_classification.py:1531: UndefinedMetricWarning: Precision is ill-defined and being set to 0.0 in labels with no predicted samples. Use `zero_division` parameter to control this behavior.\n",
      "  _warn_prf(average, modifier, f\"{metric.capitalize()} is\", len(result))\n"
     ]
    }
   ],
   "source": [
    "# predict on test set\n",
    "predictions = trainer.predict(test_dataloader)\n",
    "\n",
    "# Compute metrics\n",
    "metrics = compute_metrics(predictions)\n",
    "\n",
    "# Print the computed metrics\n",
    "print(metrics)"
   ]
  },
  {
   "cell_type": "code",
   "execution_count": 308,
   "metadata": {},
   "outputs": [
    {
     "name": "stdout",
     "output_type": "stream",
     "text": [
      "                  precision    recall  f1-score   support\n",
      "\n",
      "            news       0.76      0.84      0.80       335\n",
      "   entertainment       0.82      0.93      0.87       128\n",
      "         opinion       0.82      0.72      0.77       348\n",
      "    arts&culture       0.67      0.86      0.75        97\n",
      "science&climates       0.49      0.41      0.45        46\n",
      " specialsections       0.38      0.51      0.44        39\n",
      "         leisure       0.65      0.62      0.64       143\n",
      "        business       0.76      0.62      0.68       107\n",
      "       lifestyle       0.65      0.55      0.60        71\n",
      "           media       0.36      0.28      0.31        29\n",
      "       education       0.75      0.79      0.77        19\n",
      "           obits       0.00      0.00      0.00         2\n",
      "\n",
      "        accuracy                           0.73      1364\n",
      "       macro avg       0.59      0.59      0.59      1364\n",
      "    weighted avg       0.73      0.73      0.72      1364\n",
      "\n"
     ]
    },
    {
     "name": "stderr",
     "output_type": "stream",
     "text": [
      "/home/abhinawap/miniconda3/envs/tf/lib/python3.12/site-packages/sklearn/metrics/_classification.py:1531: UndefinedMetricWarning: Precision is ill-defined and being set to 0.0 in labels with no predicted samples. Use `zero_division` parameter to control this behavior.\n",
      "  _warn_prf(average, modifier, f\"{metric.capitalize()} is\", len(result))\n",
      "/home/abhinawap/miniconda3/envs/tf/lib/python3.12/site-packages/sklearn/metrics/_classification.py:1531: UndefinedMetricWarning: Precision is ill-defined and being set to 0.0 in labels with no predicted samples. Use `zero_division` parameter to control this behavior.\n",
      "  _warn_prf(average, modifier, f\"{metric.capitalize()} is\", len(result))\n",
      "/home/abhinawap/miniconda3/envs/tf/lib/python3.12/site-packages/sklearn/metrics/_classification.py:1531: UndefinedMetricWarning: Precision is ill-defined and being set to 0.0 in labels with no predicted samples. Use `zero_division` parameter to control this behavior.\n",
      "  _warn_prf(average, modifier, f\"{metric.capitalize()} is\", len(result))\n"
     ]
    }
   ],
   "source": [
    "class_names = list(label2id.keys())\n",
    "\n",
    "preds = predictions.predictions.argmax(-1)\n",
    "\n",
    "labels = predictions.label_ids\n",
    "\n",
    "# Print classification report\n",
    "print(classification_report(labels, preds, target_names=class_names))"
   ]
  },
  {
   "cell_type": "code",
   "execution_count": 309,
   "metadata": {},
   "outputs": [
    {
     "data": {
      "text/html": [
       "\n",
       "    <div>\n",
       "      \n",
       "      <progress value='1' max='36' style='width:300px; height:20px; vertical-align: middle;'></progress>\n",
       "      [ 1/36 : < :]\n",
       "    </div>\n",
       "    "
      ],
      "text/plain": [
       "<IPython.core.display.HTML object>"
      ]
     },
     "metadata": {},
     "output_type": "display_data"
    },
    {
     "name": "stderr",
     "output_type": "stream",
     "text": [
      "/home/abhinawap/miniconda3/envs/tf/lib/python3.12/site-packages/sklearn/metrics/_classification.py:1531: UndefinedMetricWarning: Precision is ill-defined and being set to 0.0 in labels with no predicted samples. Use `zero_division` parameter to control this behavior.\n",
      "  _warn_prf(average, modifier, f\"{metric.capitalize()} is\", len(result))\n"
     ]
    }
   ],
   "source": [
    "# Predict on test data\n",
    "predictions = trainer.predict(test_data_dataloader)\n"
   ]
  },
  {
   "cell_type": "code",
   "execution_count": 310,
   "metadata": {},
   "outputs": [
    {
     "name": "stdout",
     "output_type": "stream",
     "text": [
      "{'Accuracy': 0.7369337979094077, 'F1': 0.575240868457139, 'Precision': 0.5907477258404308, 'Recall': 0.6019209027546755}\n"
     ]
    },
    {
     "name": "stderr",
     "output_type": "stream",
     "text": [
      "/home/abhinawap/miniconda3/envs/tf/lib/python3.12/site-packages/sklearn/metrics/_classification.py:1531: UndefinedMetricWarning: Precision is ill-defined and being set to 0.0 in labels with no predicted samples. Use `zero_division` parameter to control this behavior.\n",
      "  _warn_prf(average, modifier, f\"{metric.capitalize()} is\", len(result))\n"
     ]
    }
   ],
   "source": [
    "# Compute metrics\n",
    "metrics = compute_metrics(predictions)\n",
    "\n",
    "# Print the computed metrics\n",
    "print(metrics)"
   ]
  },
  {
   "cell_type": "code",
   "execution_count": 311,
   "metadata": {},
   "outputs": [
    {
     "name": "stdout",
     "output_type": "stream",
     "text": [
      "                  precision    recall  f1-score   support\n",
      "\n",
      "            news       0.78      0.86      0.82       345\n",
      "   entertainment       0.88      0.90      0.89        94\n",
      "         opinion       0.74      0.75      0.74       217\n",
      "    arts&culture       0.74      0.88      0.81       123\n",
      "science&climates       0.46      0.41      0.44        41\n",
      " specialsections       0.36      0.45      0.40        20\n",
      "         leisure       0.55      0.49      0.52        96\n",
      "        business       0.80      0.69      0.74       123\n",
      "       lifestyle       0.81      0.41      0.54        71\n",
      "           media       0.60      0.38      0.46         8\n",
      "       education       0.38      1.00      0.55         3\n",
      "           obits       0.00      0.00      0.00         7\n",
      "\n",
      "        accuracy                           0.74      1148\n",
      "       macro avg       0.59      0.60      0.58      1148\n",
      "    weighted avg       0.73      0.74      0.73      1148\n",
      "\n"
     ]
    },
    {
     "name": "stderr",
     "output_type": "stream",
     "text": [
      "/home/abhinawap/miniconda3/envs/tf/lib/python3.12/site-packages/sklearn/metrics/_classification.py:1531: UndefinedMetricWarning: Precision is ill-defined and being set to 0.0 in labels with no predicted samples. Use `zero_division` parameter to control this behavior.\n",
      "  _warn_prf(average, modifier, f\"{metric.capitalize()} is\", len(result))\n",
      "/home/abhinawap/miniconda3/envs/tf/lib/python3.12/site-packages/sklearn/metrics/_classification.py:1531: UndefinedMetricWarning: Precision is ill-defined and being set to 0.0 in labels with no predicted samples. Use `zero_division` parameter to control this behavior.\n",
      "  _warn_prf(average, modifier, f\"{metric.capitalize()} is\", len(result))\n",
      "/home/abhinawap/miniconda3/envs/tf/lib/python3.12/site-packages/sklearn/metrics/_classification.py:1531: UndefinedMetricWarning: Precision is ill-defined and being set to 0.0 in labels with no predicted samples. Use `zero_division` parameter to control this behavior.\n",
      "  _warn_prf(average, modifier, f\"{metric.capitalize()} is\", len(result))\n"
     ]
    }
   ],
   "source": [
    "# Extract predicted class labels\n",
    "preds = predictions.predictions.argmax(-1)\n",
    "\n",
    "# Extract true class labels\n",
    "true_labels = predictions.label_ids\n",
    "\n",
    "# Print classification report\n",
    "print(classification_report(true_labels, preds, target_names=class_names))"
   ]
  },
  {
   "cell_type": "code",
   "execution_count": 312,
   "metadata": {},
   "outputs": [
    {
     "data": {
      "image/png": "[encoded data removed]",
      "text/plain": [
       "<Figure size 1000x800 with 2 Axes>"
      ]
     },
     "metadata": {},
     "output_type": "display_data"
    }
   ],
   "source": [
    "# Plot confusion matrix\n",
    "import matplotlib.pyplot as plt\n",
    "import seaborn as sns\n",
    "\n",
    "# Compute confusion matrix\n",
    "cm = confusion_matrix(true_labels, preds)\n",
    "\n",
    "# Create a DataFrame from the confusion matrix\n",
    "cm_df = pd.DataFrame(cm, index=class_names, columns=class_names)\n",
    "\n",
    "# Plot the heatmap\n",
    "plt.figure(figsize=(10, 8))\n",
    "sns.heatmap(cm_df, annot=True, cmap='Blues', fmt='d')\n",
    "plt.title('BERT Confusion Matrix')\n",
    "plt.xlabel('Predicted')\n",
    "plt.ylabel('Actual')\n",
    "plt.show()"
   ]
  },
  {
   "cell_type": "code",
   "execution_count": null,
   "metadata": {},
   "outputs": [],
   "source": []
  }
 ],
 "metadata": {
  "kernelspec": {
   "display_name": "rapids-24.06",
   "language": "python",
   "name": "python3"
  },
  "language_info": {
   "codemirror_mode": {
    "name": "ipython",
    "version": 3
   },
   "file_extension": ".py",
   "mimetype": "text/x-python",
   "name": "python",
   "nbconvert_exporter": "python",
   "pygments_lexer": "ipython3",
   "version": "3.12.3"
  }
 },
 "nbformat": 4,
 "nbformat_minor": 2
}
